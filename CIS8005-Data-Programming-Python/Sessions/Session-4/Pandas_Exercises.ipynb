{
  "nbformat": 4,
  "nbformat_minor": 0,
  "metadata": {
    "colab": {
      "name": "2_Panda Exercise.ipynb",
      "provenance": []
    },
    "kernelspec": {
      "name": "python3",
      "display_name": "Python 3"
    },
    "language_info": {
      "name": "python"
    }
  },
  "cells": [
    {
      "cell_type": "markdown",
      "metadata": {
        "id": "u8CWUnNBiq0W"
      },
      "source": [
        "Download an process a csv file at link\n",
        "http://research.stlouisfed.org/fred2/series/UNRATE/downloaddata/UNRATE.csv\n",
        "\n",
        "1.   What’s the header?\n",
        "2.   Number of observations?\n",
        "3.   Display the statistics\n",
        "4.   Display the unemployment rates in year 2006\n",
        "5.   Plot the unemployment rate from 2006 to 2012\n",
        "\n",
        "For each question, create a code cell and write your program in it."
      ]
    },
    {
      "cell_type": "code",
      "metadata": {
        "id": "e0yOTvcXiqbY"
      },
      "source": [
        "import pandas as pd\n",
        "df=pd.read_csv(\"http://research.stlouisfed.org/fred2/series/UNRATE/downloaddata/UNRATE.csv\")"
      ],
      "execution_count": 1,
      "outputs": []
    },
    {
      "cell_type": "code",
      "metadata": {
        "colab": {
          "base_uri": "https://localhost:8080/",
          "height": 164
        },
        "id": "I9KYCsdNjmNe",
        "outputId": "a0363540-960a-44f9-a8b0-a8ce8b1fd316"
      },
      "source": [
        "df"
      ],
      "execution_count": null,
      "outputs": [
        {
          "output_type": "error",
          "ename": "NameError",
          "evalue": "ignored",
          "traceback": [
            "\u001b[0;31m---------------------------------------------------------------------------\u001b[0m",
            "\u001b[0;31mNameError\u001b[0m                                 Traceback (most recent call last)",
            "\u001b[0;32m<ipython-input-1-00cf07b74dcd>\u001b[0m in \u001b[0;36m<module>\u001b[0;34m()\u001b[0m\n\u001b[0;32m----> 1\u001b[0;31m \u001b[0mdf\u001b[0m\u001b[0;34m\u001b[0m\u001b[0;34m\u001b[0m\u001b[0m\n\u001b[0m",
            "\u001b[0;31mNameError\u001b[0m: name 'df' is not defined"
          ]
        }
      ]
    }
  ]
}