{
  "nbformat": 4,
  "nbformat_minor": 0,
  "metadata": {
    "colab": {
      "name": "Exercise-USDA_Food_Database.ipynb",
      "provenance": []
    },
    "kernelspec": {
      "display_name": "Python 3",
      "name": "python3"
    },
    "language_info": {
      "name": "python"
    }
  },
  "cells": [
    {
      "cell_type": "markdown",
      "metadata": {
        "id": "EdI5y70sRDHH"
      },
      "source": [
        "The US Department of Agriculture makes available a database of food nutrient infor- mation. Ashley Williams, an English hacker, has made available a version of this da- tabase in JSON format (http://ashleyw.co.uk/project/food-nutrient-database). The re- cords look like this:\n",
        "\n",
        "{ \"id\": 21441, \"description\": \"KENTUCKY FRIED CHICKEN, Fried Chicken, EXTRA CRISPY, Wing, meat and skin with breading\", \"tags\": [\"KFC\"], \"manufacturer\": \"Kentucky Fried Chicken\", \"group\": \"Fast Foods\", \"portions\": [ { \"amount\": 1, \"unit\": \"wing, with skin\", \"grams\": 68.0 },\n",
        "\n",
        "...\n",
        "], \"nutrients\": [ { \"value\": 20.8, \"units\": \"g\", \"description\": \"Protein\", \"group\": \"Composition\" },\n",
        "\n",
        "...\n",
        "] }"
      ]
    },
    {
      "cell_type": "markdown",
      "metadata": {
        "id": "t7V2lfvtRKno"
      },
      "source": [
        "Each food has a number of identifying attributes along with two lists of nutrients and portion sizes. Having the data in this form is not particularly amenable for analysis, so we need to do some work to wrangle the data into a better form."
      ]
    },
    {
      "cell_type": "markdown",
      "metadata": {
        "id": "O61sQD4n2_jf"
      },
      "source": [
        ""
      ]
    },
    {
      "cell_type": "markdown",
      "metadata": {
        "id": "rVKlYLTY2_dw"
      },
      "source": [
        ""
      ]
    },
    {
      "cell_type": "markdown",
      "metadata": {
        "id": "o-6dc1cWRRfM"
      },
      "source": [
        "Step 1: Download and upload the json file into Google Colab"
      ]
    },
    {
      "cell_type": "markdown",
      "metadata": {
        "id": "rG5KQrc9RZvz"
      },
      "source": [
        "Step 2: Load the json file into a Python Dictionary \"db\" with json library"
      ]
    },
    {
      "cell_type": "markdown",
      "metadata": {
        "id": "wXglRoCa3gLO"
      },
      "source": [
        ""
      ]
    },
    {
      "cell_type": "markdown",
      "metadata": {
        "id": "VjxcagNW3BRV"
      },
      "source": [
        ""
      ]
    },
    {
      "cell_type": "markdown",
      "metadata": {
        "id": "ijy4mS-X3mqO"
      },
      "source": [
        "Driver: Bhavin Patel \n",
        "Observer - 01: Yash Mitakari \n",
        "Observer - 02: Sapna Patel"
      ]
    },
    {
      "cell_type": "code",
      "metadata": {
        "colab": {
          "base_uri": "https://localhost:8080/"
        },
        "id": "yKRekSs0RB1l",
        "outputId": "381f2881-83c6-4148-e153-032fd5a99c47"
      },
      "source": [
        "import json\n",
        "db = json.load(open('database.json'))\n",
        "len(db)"
      ],
      "execution_count": 2,
      "outputs": [
        {
          "output_type": "execute_result",
          "data": {
            "text/plain": [
              "6636"
            ]
          },
          "metadata": {},
          "execution_count": 2
        }
      ]
    },
    {
      "cell_type": "markdown",
      "metadata": {
        "id": "SFy2LNTnSP0e"
      },
      "source": [
        "Each entry in db is a dict containing all the data for a single food. The 'nutrients' field is a list of dicts, one for each nutrient:"
      ]
    },
    {
      "cell_type": "markdown",
      "metadata": {
        "id": "joDUWfXYRjzo"
      },
      "source": [
        "Step 3: Check the keys in dict db in first row."
      ]
    },
    {
      "cell_type": "code",
      "metadata": {
        "colab": {
          "base_uri": "https://localhost:8080/"
        },
        "id": "w_KT1ZIoYvNG",
        "outputId": "e5287992-c115-43e4-8be9-77734686306a"
      },
      "source": [
        "db[0].keys()"
      ],
      "execution_count": 3,
      "outputs": [
        {
          "output_type": "execute_result",
          "data": {
            "text/plain": [
              "dict_keys(['id', 'description', 'tags', 'manufacturer', 'group', 'portions', 'nutrients'])"
            ]
          },
          "metadata": {},
          "execution_count": 3
        }
      ]
    },
    {
      "cell_type": "markdown",
      "metadata": {
        "id": "usW_tt_DScBe"
      },
      "source": [
        "Step 4: Check the keys in \"nutrients\" in first row."
      ]
    },
    {
      "cell_type": "code",
      "metadata": {
        "colab": {
          "base_uri": "https://localhost:8080/"
        },
        "id": "PwzlHCNkja0C",
        "outputId": "65d0a9d1-9753-4fb5-96c7-f450770adc1d"
      },
      "source": [
        "db[0]['nutrients'][0]"
      ],
      "execution_count": 4,
      "outputs": [
        {
          "output_type": "execute_result",
          "data": {
            "text/plain": [
              "{'description': 'Protein',\n",
              " 'group': 'Composition',\n",
              " 'units': 'g',\n",
              " 'value': 25.18}"
            ]
          },
          "metadata": {},
          "execution_count": 4
        }
      ]
    },
    {
      "cell_type": "markdown",
      "metadata": {
        "id": "YT_VGG-cSjPW"
      },
      "source": [
        "Step 5: Convert \"nutrients\" of first row into a Dataframe called as nutrients."
      ]
    },
    {
      "cell_type": "code",
      "metadata": {
        "id": "aBvnrk6xlOtk"
      },
      "source": [
        "import pandas as pd\n",
        "nutrients = pd.DataFrame(db[0]['nutrients'])"
      ],
      "execution_count": 6,
      "outputs": []
    },
    {
      "cell_type": "markdown",
      "metadata": {
        "id": "GAry-_TYS37K"
      },
      "source": [
        "Step 6: Build another DataFrame info by extracting 'description','group','id' and 'manufacture'."
      ]
    },
    {
      "cell_type": "code",
      "metadata": {
        "id": "rak2Z8o2lhPU"
      },
      "source": [
        "info = pd.DataFrame(db, columns=['description', 'group', 'id', 'manufacture'])"
      ],
      "execution_count": 8,
      "outputs": []
    },
    {
      "cell_type": "markdown",
      "metadata": {
        "id": "ZQxSe2HYTLaq"
      },
      "source": [
        "Step 7: Check the distribution of food groups with value_counts."
      ]
    },
    {
      "cell_type": "code",
      "metadata": {
        "colab": {
          "base_uri": "https://localhost:8080/"
        },
        "id": "1xKPHfOomc1i",
        "outputId": "d6ab1c09-fae6-4859-ee5b-cba8a7a9aba4"
      },
      "source": [
        "info['group'].value_counts()"
      ],
      "execution_count": 9,
      "outputs": [
        {
          "output_type": "execute_result",
          "data": {
            "text/plain": [
              "Vegetables and Vegetable Products    812\n",
              "Beef Products                        618\n",
              "Baked Products                       496\n",
              "Breakfast Cereals                    403\n",
              "Legumes and Legume Products          365\n",
              "Fast Foods                           365\n",
              "Lamb, Veal, and Game Products        345\n",
              "Sweets                               341\n",
              "Fruits and Fruit Juices              328\n",
              "Pork Products                        328\n",
              "Beverages                            278\n",
              "Soups, Sauces, and Gravies           275\n",
              "Finfish and Shellfish Products       255\n",
              "Baby Foods                           209\n",
              "Cereal Grains and Pasta              183\n",
              "Ethnic Foods                         165\n",
              "Snacks                               162\n",
              "Nut and Seed Products                128\n",
              "Poultry Products                     116\n",
              "Sausages and Luncheon Meats          111\n",
              "Dairy and Egg Products               107\n",
              "Fats and Oils                         97\n",
              "Meals, Entrees, and Sidedishes        57\n",
              "Restaurant Foods                      51\n",
              "Spices and Herbs                      41\n",
              "Name: group, dtype: int64"
            ]
          },
          "metadata": {},
          "execution_count": 9
        }
      ]
    },
    {
      "cell_type": "markdown",
      "metadata": {
        "id": "9pMMPrabUAiP"
      },
      "source": [
        "Step 8: Let us assemble the nutrients for each food into a single large table nutrients. First, covert each list of food nutrients to a DataFrame, add a column for the food id, and append the DataFrame to a list. Then, these can be concatenated together with concat."
      ]
    },
    {
      "cell_type": "code",
      "metadata": {
        "id": "crAI9cTznjFe"
      },
      "source": [
        "nutrients = []\n",
        "for rec in db:\n",
        "  fnuts = pd.DataFrame(rec['nutrients'])\n",
        "  fnuts['id'] = rec['id']\n",
        "  nutrients.append(fnuts)\n",
        "nutrients = pd.concat(nutrients, ignore_index=True)"
      ],
      "execution_count": 10,
      "outputs": []
    },
    {
      "cell_type": "markdown",
      "metadata": {
        "id": "PqKTsvUtUi2P"
      },
      "source": [
        "If all goes well, nutrients should look like this:\n",
        "\n",
        "<class 'pandas.core.frame.DataFrame'> \n",
        "Int64Index: 389355 entries, 0 to 389354 \n",
        "Data columns:\n",
        "description 389855 non-null values\n",
        "group 389855 non-null values\n",
        "units 389855 non-null values\n",
        "value 389855 non-null values\n",
        "id 389855 non-null values\n",
        "dtypes: float64(1), int64(1), object(3)"
      ]
    },
    {
      "cell_type": "markdown",
      "metadata": {
        "id": "hBaC70nnUy0E"
      },
      "source": [
        "Step 9: Drop duplicates in this DataFrame"
      ]
    },
    {
      "cell_type": "code",
      "metadata": {
        "colab": {
          "base_uri": "https://localhost:8080/",
          "height": 419
        },
        "id": "6lxwVOeonj9r",
        "outputId": "e1d23e07-f308-4e5d-a2d1-55ba00d238ca"
      },
      "source": [
        "nutrients = nutrients.drop_duplicates()\n",
        "nutrients"
      ],
      "execution_count": 11,
      "outputs": [
        {
          "output_type": "execute_result",
          "data": {
            "text/html": [
              "<div>\n",
              "<style scoped>\n",
              "    .dataframe tbody tr th:only-of-type {\n",
              "        vertical-align: middle;\n",
              "    }\n",
              "\n",
              "    .dataframe tbody tr th {\n",
              "        vertical-align: top;\n",
              "    }\n",
              "\n",
              "    .dataframe thead th {\n",
              "        text-align: right;\n",
              "    }\n",
              "</style>\n",
              "<table border=\"1\" class=\"dataframe\">\n",
              "  <thead>\n",
              "    <tr style=\"text-align: right;\">\n",
              "      <th></th>\n",
              "      <th>value</th>\n",
              "      <th>units</th>\n",
              "      <th>description</th>\n",
              "      <th>group</th>\n",
              "      <th>id</th>\n",
              "    </tr>\n",
              "  </thead>\n",
              "  <tbody>\n",
              "    <tr>\n",
              "      <th>0</th>\n",
              "      <td>25.180</td>\n",
              "      <td>g</td>\n",
              "      <td>Protein</td>\n",
              "      <td>Composition</td>\n",
              "      <td>1008</td>\n",
              "    </tr>\n",
              "    <tr>\n",
              "      <th>1</th>\n",
              "      <td>29.200</td>\n",
              "      <td>g</td>\n",
              "      <td>Total lipid (fat)</td>\n",
              "      <td>Composition</td>\n",
              "      <td>1008</td>\n",
              "    </tr>\n",
              "    <tr>\n",
              "      <th>2</th>\n",
              "      <td>3.060</td>\n",
              "      <td>g</td>\n",
              "      <td>Carbohydrate, by difference</td>\n",
              "      <td>Composition</td>\n",
              "      <td>1008</td>\n",
              "    </tr>\n",
              "    <tr>\n",
              "      <th>3</th>\n",
              "      <td>3.280</td>\n",
              "      <td>g</td>\n",
              "      <td>Ash</td>\n",
              "      <td>Other</td>\n",
              "      <td>1008</td>\n",
              "    </tr>\n",
              "    <tr>\n",
              "      <th>4</th>\n",
              "      <td>376.000</td>\n",
              "      <td>kcal</td>\n",
              "      <td>Energy</td>\n",
              "      <td>Energy</td>\n",
              "      <td>1008</td>\n",
              "    </tr>\n",
              "    <tr>\n",
              "      <th>...</th>\n",
              "      <td>...</td>\n",
              "      <td>...</td>\n",
              "      <td>...</td>\n",
              "      <td>...</td>\n",
              "      <td>...</td>\n",
              "    </tr>\n",
              "    <tr>\n",
              "      <th>389350</th>\n",
              "      <td>0.000</td>\n",
              "      <td>mcg</td>\n",
              "      <td>Vitamin B-12, added</td>\n",
              "      <td>Vitamins</td>\n",
              "      <td>43546</td>\n",
              "    </tr>\n",
              "    <tr>\n",
              "      <th>389351</th>\n",
              "      <td>0.000</td>\n",
              "      <td>mg</td>\n",
              "      <td>Cholesterol</td>\n",
              "      <td>Other</td>\n",
              "      <td>43546</td>\n",
              "    </tr>\n",
              "    <tr>\n",
              "      <th>389352</th>\n",
              "      <td>0.072</td>\n",
              "      <td>g</td>\n",
              "      <td>Fatty acids, total saturated</td>\n",
              "      <td>Other</td>\n",
              "      <td>43546</td>\n",
              "    </tr>\n",
              "    <tr>\n",
              "      <th>389353</th>\n",
              "      <td>0.028</td>\n",
              "      <td>g</td>\n",
              "      <td>Fatty acids, total monounsaturated</td>\n",
              "      <td>Other</td>\n",
              "      <td>43546</td>\n",
              "    </tr>\n",
              "    <tr>\n",
              "      <th>389354</th>\n",
              "      <td>0.041</td>\n",
              "      <td>g</td>\n",
              "      <td>Fatty acids, total polyunsaturated</td>\n",
              "      <td>Other</td>\n",
              "      <td>43546</td>\n",
              "    </tr>\n",
              "  </tbody>\n",
              "</table>\n",
              "<p>375176 rows × 5 columns</p>\n",
              "</div>"
            ],
            "text/plain": [
              "          value units                         description        group     id\n",
              "0        25.180     g                             Protein  Composition   1008\n",
              "1        29.200     g                   Total lipid (fat)  Composition   1008\n",
              "2         3.060     g         Carbohydrate, by difference  Composition   1008\n",
              "3         3.280     g                                 Ash        Other   1008\n",
              "4       376.000  kcal                              Energy       Energy   1008\n",
              "...         ...   ...                                 ...          ...    ...\n",
              "389350    0.000   mcg                 Vitamin B-12, added     Vitamins  43546\n",
              "389351    0.000    mg                         Cholesterol        Other  43546\n",
              "389352    0.072     g        Fatty acids, total saturated        Other  43546\n",
              "389353    0.028     g  Fatty acids, total monounsaturated        Other  43546\n",
              "389354    0.041     g  Fatty acids, total polyunsaturated        Other  43546\n",
              "\n",
              "[375176 rows x 5 columns]"
            ]
          },
          "metadata": {},
          "execution_count": 11
        }
      ]
    },
    {
      "cell_type": "markdown",
      "metadata": {
        "id": "UkFLuFuAVDxr"
      },
      "source": [
        "Step 10: Since 'group' and 'description' is in both DataFrame objects, we can rename them to make it clear what is what.\n",
        "info: --> fgroup, food\n",
        "nutrients: --> nutgroup, nutrient"
      ]
    },
    {
      "cell_type": "code",
      "metadata": {
        "id": "2ngJzQ2Znkk-"
      },
      "source": [
        "info = info.rename(columns={'group':'fgroup', 'description':'food'})\n",
        "nutrients = nutrients.rename(columns={'group':'nutgroup', 'description':'nutrient'})"
      ],
      "execution_count": 12,
      "outputs": []
    },
    {
      "cell_type": "markdown",
      "metadata": {
        "id": "o5IWB3HNVZqL"
      },
      "source": [
        "Step 11: Merge info with nutrients. Call new dataframe as ndata."
      ]
    },
    {
      "cell_type": "code",
      "metadata": {
        "id": "ltmIuNpXnlFQ"
      },
      "source": [
        "ndata = pd.merge(info, nutrients, on='id', how='outer')"
      ],
      "execution_count": 13,
      "outputs": []
    },
    {
      "cell_type": "markdown",
      "metadata": {
        "id": "-Hw2fKWPWehY"
      },
      "source": [
        "Step 12: Get a plot of median values by food group and nutrient type."
      ]
    },
    {
      "cell_type": "code",
      "metadata": {
        "colab": {
          "base_uri": "https://localhost:8080/",
          "height": 282
        },
        "id": "H6vxrGHmnlit",
        "outputId": "04d690ed-a7fe-42ac-de04-2e4be63189ae"
      },
      "source": [
        "ndata.head()\n",
        "result=ndata.groupby(['nutrient', 'fgroup'])['value'].median()\n",
        "result['Zinc, Zn'].plot(kind='barh')"
      ],
      "execution_count": 60,
      "outputs": [
        {
          "output_type": "execute_result",
          "data": {
            "text/plain": [
              "<matplotlib.axes._subplots.AxesSubplot at 0x7f798f18c790>"
            ]
          },
          "metadata": {},
          "execution_count": 60
        },
        {
          "output_type": "display_data",
          "data": {
            "image/png": "[encoded data removed]",
            "text/plain": [
              "<Figure size 432x288 with 1 Axes>"
            ]
          },
          "metadata": {
            "needs_background": "light"
          }
        }
      ]
    },
    {
      "cell_type": "markdown",
      "metadata": {
        "id": "hAzisyNcWx7u"
      },
      "source": [
        "Step 13: How do we know which food is most dense in each nutrient."
      ]
    },
    {
      "cell_type": "code",
      "metadata": {
        "colab": {
          "base_uri": "https://localhost:8080/",
          "height": 504
        },
        "id": "NNEJvObrnmG0",
        "outputId": "3ab7fbbe-d8b3-40f4-b753-c969861954c5"
      },
      "source": [
        "result=ndata.groupby(['nutgroup', 'nutrient'])['value', 'food'].max()\n",
        "result"
      ],
      "execution_count": 37,
      "outputs": [
        {
          "output_type": "stream",
          "name": "stderr",
          "text": [
            "/usr/local/lib/python3.7/dist-packages/ipykernel_launcher.py:1: FutureWarning: Indexing with multiple keys (implicitly converted to a tuple of keys) will be deprecated, use a list instead.\n",
            "  \"\"\"Entry point for launching an IPython kernel.\n"
          ]
        },
        {
          "output_type": "execute_result",
          "data": {
            "text/html": [
              "<div>\n",
              "<style scoped>\n",
              "    .dataframe tbody tr th:only-of-type {\n",
              "        vertical-align: middle;\n",
              "    }\n",
              "\n",
              "    .dataframe tbody tr th {\n",
              "        vertical-align: top;\n",
              "    }\n",
              "\n",
              "    .dataframe thead th {\n",
              "        text-align: right;\n",
              "    }\n",
              "</style>\n",
              "<table border=\"1\" class=\"dataframe\">\n",
              "  <thead>\n",
              "    <tr style=\"text-align: right;\">\n",
              "      <th></th>\n",
              "      <th></th>\n",
              "      <th>value</th>\n",
              "      <th>food</th>\n",
              "    </tr>\n",
              "    <tr>\n",
              "      <th>nutgroup</th>\n",
              "      <th>nutrient</th>\n",
              "      <th></th>\n",
              "      <th></th>\n",
              "    </tr>\n",
              "  </thead>\n",
              "  <tbody>\n",
              "    <tr>\n",
              "      <th rowspan=\"5\" valign=\"top\">Amino Acids</th>\n",
              "      <th>Alanine</th>\n",
              "      <td>8.009</td>\n",
              "      <td>Yogurt, vanilla, low fat, 11 grams protein per...</td>\n",
              "    </tr>\n",
              "    <tr>\n",
              "      <th>Arginine</th>\n",
              "      <td>7.436</td>\n",
              "      <td>Yogurt, vanilla, low fat, 11 grams protein per...</td>\n",
              "    </tr>\n",
              "    <tr>\n",
              "      <th>Aspartic acid</th>\n",
              "      <td>10.203</td>\n",
              "      <td>Yogurt, vanilla, low fat, 11 grams protein per...</td>\n",
              "    </tr>\n",
              "    <tr>\n",
              "      <th>Cystine</th>\n",
              "      <td>1.307</td>\n",
              "      <td>Yogurt, vanilla, low fat, 11 grams protein per...</td>\n",
              "    </tr>\n",
              "    <tr>\n",
              "      <th>Glutamic acid</th>\n",
              "      <td>17.452</td>\n",
              "      <td>Yogurt, vanilla, low fat, 11 grams protein per...</td>\n",
              "    </tr>\n",
              "    <tr>\n",
              "      <th>...</th>\n",
              "      <th>...</th>\n",
              "      <td>...</td>\n",
              "      <td>...</td>\n",
              "    </tr>\n",
              "    <tr>\n",
              "      <th rowspan=\"5\" valign=\"top\">Vitamins</th>\n",
              "      <th>Vitamin D2 (ergocalciferol)</th>\n",
              "      <td>28.100</td>\n",
              "      <td>Soymilk, original and vanilla, with added calc...</td>\n",
              "    </tr>\n",
              "    <tr>\n",
              "      <th>Vitamin D3 (cholecalciferol)</th>\n",
              "      <td>27.400</td>\n",
              "      <td>Yogurt, vanilla, low fat, 11 grams protein per...</td>\n",
              "    </tr>\n",
              "    <tr>\n",
              "      <th>Vitamin E (alpha-tocopherol)</th>\n",
              "      <td>149.400</td>\n",
              "      <td>Yogurt, vanilla, low fat, 11 grams protein per...</td>\n",
              "    </tr>\n",
              "    <tr>\n",
              "      <th>Vitamin E, added</th>\n",
              "      <td>46.550</td>\n",
              "      <td>Yogurt, vanilla, low fat, 11 grams protein per...</td>\n",
              "    </tr>\n",
              "    <tr>\n",
              "      <th>Vitamin K (phylloquinone)</th>\n",
              "      <td>1714.500</td>\n",
              "      <td>Yogurt, vanilla, low fat, 11 grams protein per...</td>\n",
              "    </tr>\n",
              "  </tbody>\n",
              "</table>\n",
              "<p>94 rows × 2 columns</p>\n",
              "</div>"
            ],
            "text/plain": [
              "                                             value                                               food\n",
              "nutgroup    nutrient                                                                                 \n",
              "Amino Acids Alanine                          8.009  Yogurt, vanilla, low fat, 11 grams protein per...\n",
              "            Arginine                         7.436  Yogurt, vanilla, low fat, 11 grams protein per...\n",
              "            Aspartic acid                   10.203  Yogurt, vanilla, low fat, 11 grams protein per...\n",
              "            Cystine                          1.307  Yogurt, vanilla, low fat, 11 grams protein per...\n",
              "            Glutamic acid                   17.452  Yogurt, vanilla, low fat, 11 grams protein per...\n",
              "...                                            ...                                                ...\n",
              "Vitamins    Vitamin D2 (ergocalciferol)     28.100  Soymilk, original and vanilla, with added calc...\n",
              "            Vitamin D3 (cholecalciferol)    27.400  Yogurt, vanilla, low fat, 11 grams protein per...\n",
              "            Vitamin E (alpha-tocopherol)   149.400  Yogurt, vanilla, low fat, 11 grams protein per...\n",
              "            Vitamin E, added                46.550  Yogurt, vanilla, low fat, 11 grams protein per...\n",
              "            Vitamin K (phylloquinone)     1714.500  Yogurt, vanilla, low fat, 11 grams protein per...\n",
              "\n",
              "[94 rows x 2 columns]"
            ]
          },
          "metadata": {},
          "execution_count": 37
        }
      ]
    },
    {
      "cell_type": "markdown",
      "metadata": {
        "id": "9_QxAftlW9xV"
      },
      "source": [
        "Step 14: The resulting DataFrame is a bit too large to display in the book; can you show just the 'Amino Acids' nutrient group?"
      ]
    },
    {
      "cell_type": "code",
      "metadata": {
        "colab": {
          "base_uri": "https://localhost:8080/",
          "height": 589
        },
        "id": "y7AdvXwDnmrs",
        "outputId": "1a9f3d5e-3f29-43ce-c936-5486d6df5ab0"
      },
      "source": [
        "ndata[ndata['nutgroup'] == 'Amino Acids']"
      ],
      "execution_count": 20,
      "outputs": [
        {
          "output_type": "execute_result",
          "data": {
            "text/html": [
              "<div>\n",
              "<style scoped>\n",
              "    .dataframe tbody tr th:only-of-type {\n",
              "        vertical-align: middle;\n",
              "    }\n",
              "\n",
              "    .dataframe tbody tr th {\n",
              "        vertical-align: top;\n",
              "    }\n",
              "\n",
              "    .dataframe thead th {\n",
              "        text-align: right;\n",
              "    }\n",
              "</style>\n",
              "<table border=\"1\" class=\"dataframe\">\n",
              "  <thead>\n",
              "    <tr style=\"text-align: right;\">\n",
              "      <th></th>\n",
              "      <th>food</th>\n",
              "      <th>fgroup</th>\n",
              "      <th>id</th>\n",
              "      <th>manufacture</th>\n",
              "      <th>value</th>\n",
              "      <th>units</th>\n",
              "      <th>nutrient</th>\n",
              "      <th>nutgroup</th>\n",
              "    </tr>\n",
              "  </thead>\n",
              "  <tbody>\n",
              "    <tr>\n",
              "      <th>36</th>\n",
              "      <td>Cheese, caraway</td>\n",
              "      <td>Dairy and Egg Products</td>\n",
              "      <td>1008</td>\n",
              "      <td>NaN</td>\n",
              "      <td>0.324</td>\n",
              "      <td>g</td>\n",
              "      <td>Tryptophan</td>\n",
              "      <td>Amino Acids</td>\n",
              "    </tr>\n",
              "    <tr>\n",
              "      <th>37</th>\n",
              "      <td>Cheese, caraway</td>\n",
              "      <td>Dairy and Egg Products</td>\n",
              "      <td>1008</td>\n",
              "      <td>NaN</td>\n",
              "      <td>0.896</td>\n",
              "      <td>g</td>\n",
              "      <td>Threonine</td>\n",
              "      <td>Amino Acids</td>\n",
              "    </tr>\n",
              "    <tr>\n",
              "      <th>38</th>\n",
              "      <td>Cheese, caraway</td>\n",
              "      <td>Dairy and Egg Products</td>\n",
              "      <td>1008</td>\n",
              "      <td>NaN</td>\n",
              "      <td>1.563</td>\n",
              "      <td>g</td>\n",
              "      <td>Isoleucine</td>\n",
              "      <td>Amino Acids</td>\n",
              "    </tr>\n",
              "    <tr>\n",
              "      <th>39</th>\n",
              "      <td>Cheese, caraway</td>\n",
              "      <td>Dairy and Egg Products</td>\n",
              "      <td>1008</td>\n",
              "      <td>NaN</td>\n",
              "      <td>2.412</td>\n",
              "      <td>g</td>\n",
              "      <td>Leucine</td>\n",
              "      <td>Amino Acids</td>\n",
              "    </tr>\n",
              "    <tr>\n",
              "      <th>40</th>\n",
              "      <td>Cheese, caraway</td>\n",
              "      <td>Dairy and Egg Products</td>\n",
              "      <td>1008</td>\n",
              "      <td>NaN</td>\n",
              "      <td>2.095</td>\n",
              "      <td>g</td>\n",
              "      <td>Lysine</td>\n",
              "      <td>Amino Acids</td>\n",
              "    </tr>\n",
              "    <tr>\n",
              "      <th>...</th>\n",
              "      <td>...</td>\n",
              "      <td>...</td>\n",
              "      <td>...</td>\n",
              "      <td>...</td>\n",
              "      <td>...</td>\n",
              "      <td>...</td>\n",
              "      <td>...</td>\n",
              "      <td>...</td>\n",
              "    </tr>\n",
              "    <tr>\n",
              "      <th>374646</th>\n",
              "      <td>Beef, rib, small end (ribs 10-12), separable l...</td>\n",
              "      <td>Beef Products</td>\n",
              "      <td>23638</td>\n",
              "      <td>NaN</td>\n",
              "      <td>4.440</td>\n",
              "      <td>g</td>\n",
              "      <td>Glutamic acid</td>\n",
              "      <td>Amino Acids</td>\n",
              "    </tr>\n",
              "    <tr>\n",
              "      <th>374647</th>\n",
              "      <td>Beef, rib, small end (ribs 10-12), separable l...</td>\n",
              "      <td>Beef Products</td>\n",
              "      <td>23638</td>\n",
              "      <td>NaN</td>\n",
              "      <td>1.801</td>\n",
              "      <td>g</td>\n",
              "      <td>Glycine</td>\n",
              "      <td>Amino Acids</td>\n",
              "    </tr>\n",
              "    <tr>\n",
              "      <th>374648</th>\n",
              "      <td>Beef, rib, small end (ribs 10-12), separable l...</td>\n",
              "      <td>Beef Products</td>\n",
              "      <td>23638</td>\n",
              "      <td>NaN</td>\n",
              "      <td>1.410</td>\n",
              "      <td>g</td>\n",
              "      <td>Proline</td>\n",
              "      <td>Amino Acids</td>\n",
              "    </tr>\n",
              "    <tr>\n",
              "      <th>374649</th>\n",
              "      <td>Beef, rib, small end (ribs 10-12), separable l...</td>\n",
              "      <td>Beef Products</td>\n",
              "      <td>23638</td>\n",
              "      <td>NaN</td>\n",
              "      <td>1.165</td>\n",
              "      <td>g</td>\n",
              "      <td>Serine</td>\n",
              "      <td>Amino Acids</td>\n",
              "    </tr>\n",
              "    <tr>\n",
              "      <th>374650</th>\n",
              "      <td>Beef, rib, small end (ribs 10-12), separable l...</td>\n",
              "      <td>Beef Products</td>\n",
              "      <td>23638</td>\n",
              "      <td>NaN</td>\n",
              "      <td>0.311</td>\n",
              "      <td>g</td>\n",
              "      <td>Hydroxyproline</td>\n",
              "      <td>Amino Acids</td>\n",
              "    </tr>\n",
              "  </tbody>\n",
              "</table>\n",
              "<p>74907 rows × 8 columns</p>\n",
              "</div>"
            ],
            "text/plain": [
              "                                                     food  ...     nutgroup\n",
              "36                                        Cheese, caraway  ...  Amino Acids\n",
              "37                                        Cheese, caraway  ...  Amino Acids\n",
              "38                                        Cheese, caraway  ...  Amino Acids\n",
              "39                                        Cheese, caraway  ...  Amino Acids\n",
              "40                                        Cheese, caraway  ...  Amino Acids\n",
              "...                                                   ...  ...          ...\n",
              "374646  Beef, rib, small end (ribs 10-12), separable l...  ...  Amino Acids\n",
              "374647  Beef, rib, small end (ribs 10-12), separable l...  ...  Amino Acids\n",
              "374648  Beef, rib, small end (ribs 10-12), separable l...  ...  Amino Acids\n",
              "374649  Beef, rib, small end (ribs 10-12), separable l...  ...  Amino Acids\n",
              "374650  Beef, rib, small end (ribs 10-12), separable l...  ...  Amino Acids\n",
              "\n",
              "[74907 rows x 8 columns]"
            ]
          },
          "metadata": {},
          "execution_count": 20
        }
      ]
    }
  ]
}