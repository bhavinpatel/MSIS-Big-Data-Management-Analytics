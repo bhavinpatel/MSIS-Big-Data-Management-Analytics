{
 "cells": [
  {
   "cell_type": "markdown",
   "metadata": {
    "id": "LzoMZK15oxMg"
   },
   "source": [
    "# Assignment 3: Intro to Jupyter Notebook and ML using scikit on structured data"
   ]
  },
  {
   "cell_type": "markdown",
   "metadata": {
    "id": "ah1KK_d6oxMi"
   },
   "source": [
    "\n",
    "You can edit this notebook to finish the assigned tasks and answer the questions."
   ]
  },
  {
   "cell_type": "code",
   "execution_count": null,
   "metadata": {
    "id": "z9hGEP_A2OBl"
   },
   "outputs": [],
   "source": []
  },
  {
   "cell_type": "markdown",
   "metadata": {
    "id": "z8F0WKzooxMk"
   },
   "source": [
    "To get started with Jupyter Notebook, you can take the User Interface Tour in the Help menu. In Jupyter Notebook, you can put code in any cell and run it. Some cells are for text, headings, etc. They are called as \"Markdown\" cells. This cell is a markdown cell. Cells can be changed from code cells to markdown cells in the Cell menu -> Cell Type. If you want to learn more details about markdown cell(e.g. insert a hyperlink), please refer to [here](https://github.com/adam-p/markdown-here/wiki/Markdown-Cheatsheet).\n",
    "\n",
    "To run a single cell, you can type Shift+Enter. And you can rerun individual cells whenever you like. \n",
    "\n",
    "Try running the following cell:"
   ]
  },
  {
   "cell_type": "code",
   "execution_count": 1,
   "metadata": {
    "id": "okbP2ScyoxMn"
   },
   "outputs": [
    {
     "name": "stdout",
     "output_type": "stream",
     "text": [
      "This is Assignment 1\n"
     ]
    }
   ],
   "source": [
    "print (\"This is Assignment 1\")"
   ]
  },
  {
   "cell_type": "markdown",
   "metadata": {
    "id": "Ilrx0Z0goxMs"
   },
   "source": [
    "Jupyter Notebooks will remember what you set variables to even after the code has finished running (until you clear outputs or change the variable in some way). The following code will find the current time when you run it:"
   ]
  },
  {
   "cell_type": "code",
   "execution_count": 2,
   "metadata": {
    "id": "To4dQsOboxMu",
    "scrolled": true
   },
   "outputs": [
    {
     "name": "stdout",
     "output_type": "stream",
     "text": [
      "time.struct_time(tm_year=2021, tm_mon=9, tm_mday=28, tm_hour=18, tm_min=29, tm_sec=57, tm_wday=1, tm_yday=271, tm_isdst=0)\n"
     ]
    }
   ],
   "source": [
    "import time\n",
    "current_time = time.gmtime()\n",
    "print (current_time)"
   ]
  },
  {
   "cell_type": "markdown",
   "metadata": {
    "id": "XboCqLddoxMx"
   },
   "source": [
    "If you print current_time in another cell later on, it will keep the value from when you originally set it. If you go back and rerun the above code, it will update."
   ]
  },
  {
   "cell_type": "code",
   "execution_count": 3,
   "metadata": {
    "id": "wyVofbq9oxMy",
    "scrolled": true
   },
   "outputs": [
    {
     "name": "stdout",
     "output_type": "stream",
     "text": [
      "time.struct_time(tm_year=2021, tm_mon=9, tm_mday=28, tm_hour=18, tm_min=29, tm_sec=57, tm_wday=1, tm_yday=271, tm_isdst=0)\n"
     ]
    }
   ],
   "source": [
    "# For example\n",
    "print (current_time)"
   ]
  },
  {
   "cell_type": "markdown",
   "metadata": {
    "id": "s52aLQx5oxM1"
   },
   "source": [
    "The magic of using Jupyter Notebook is that you can control the order of execuction of code cells. However, the concequence is that you do have to be careful about this if you run something later on in your code and then come back to an earlier part because variables may not have the values you expect at that point in the code. The following three blocks of code would always print out \"original\" if you ran them consecutively in regular code, but if you run them backwards in this notebook, you'll get an output of \"new\". Feel free to try:"
   ]
  },
  {
   "cell_type": "code",
   "execution_count": 4,
   "metadata": {
    "id": "UzGCVXXuoxM2"
   },
   "outputs": [],
   "source": [
    "x = 'original'"
   ]
  },
  {
   "cell_type": "code",
   "execution_count": 5,
   "metadata": {
    "id": "-Vtqh34moxM5"
   },
   "outputs": [
    {
     "name": "stdout",
     "output_type": "stream",
     "text": [
      "original\n"
     ]
    }
   ],
   "source": [
    "print (x)"
   ]
  },
  {
   "cell_type": "code",
   "execution_count": 6,
   "metadata": {
    "id": "AXkKipbLoxM7"
   },
   "outputs": [],
   "source": [
    "x = 'new'"
   ]
  },
  {
   "cell_type": "markdown",
   "metadata": {
    "id": "oJXaFm-VoxM9"
   },
   "source": [
    "You will need to work with files in this assignment. \"%pwd\" commands tell you the full path name of working directory and \"%ls\" list the files in it."
   ]
  },
  {
   "cell_type": "code",
   "execution_count": 7,
   "metadata": {
    "colab": {
     "base_uri": "https://localhost:8080/",
     "height": 37
    },
    "id": "nWl0aMFqoxM9",
    "outputId": "6311d7fa-02de-456a-8830-547adea8e34a",
    "scrolled": true
   },
   "outputs": [
    {
     "data": {
      "text/plain": [
       "'/Users/bhavin/Downloads/In Class Assignment 3'"
      ]
     },
     "execution_count": 7,
     "metadata": {},
     "output_type": "execute_result"
    }
   ],
   "source": [
    "%pwd"
   ]
  },
  {
   "cell_type": "code",
   "execution_count": 8,
   "metadata": {
    "colab": {
     "base_uri": "https://localhost:8080/"
    },
    "id": "sXv6NDK8oxM_",
    "outputId": "ebd0a9c2-aea7-4920-ae0c-684c61a601a9"
   },
   "outputs": [
    {
     "name": "stdout",
     "output_type": "stream",
     "text": [
      "CIS8005-Fall21-Assignment3.docx   stocktrainingdata.csv\r\n",
      "CIS8005_Fall21_Assignment3.ipynb  variables.txt\r\n",
      "stocktestdata.csv\r\n"
     ]
    }
   ],
   "source": [
    "%ls"
   ]
  },
  {
   "cell_type": "markdown",
   "metadata": {
    "id": "AegpUpFEoxNA"
   },
   "source": [
    "The \"%ls\" command should show you at least the two .csv data files, the .txt variable explanations files, and this jupyter notebook. If it doesn't, you may need to move those files to the working directory manually or change the working directory.\n",
    "\n",
    "Next we can import the training data. We'll do this using pandas and numpy."
   ]
  },
  {
   "cell_type": "code",
   "execution_count": 9,
   "metadata": {
    "id": "W9ObNzEroxNB"
   },
   "outputs": [],
   "source": [
    "import pandas as pd\n",
    "import numpy as np"
   ]
  },
  {
   "cell_type": "markdown",
   "metadata": {
    "id": "N076s5YJoxNC"
   },
   "source": [
    "### **(1) The code below will import the .csv as a dataframe type object, which we need it to be in to clean it a bit.**"
   ]
  },
  {
   "cell_type": "code",
   "execution_count": 10,
   "metadata": {
    "id": "G6DxehvCoxND"
   },
   "outputs": [],
   "source": [
    "trainingdata = pd.read_csv(\"stocktrainingdata.csv\", header = 0)"
   ]
  },
  {
   "cell_type": "code",
   "execution_count": 11,
   "metadata": {
    "id": "_E-U7RN0oxNE",
    "scrolled": true
   },
   "outputs": [
    {
     "data": {
      "text/html": [
       "<div>\n",
       "<style scoped>\n",
       "    .dataframe tbody tr th:only-of-type {\n",
       "        vertical-align: middle;\n",
       "    }\n",
       "\n",
       "    .dataframe tbody tr th {\n",
       "        vertical-align: top;\n",
       "    }\n",
       "\n",
       "    .dataframe thead th {\n",
       "        text-align: right;\n",
       "    }\n",
       "</style>\n",
       "<table border=\"1\" class=\"dataframe\">\n",
       "  <thead>\n",
       "    <tr style=\"text-align: right;\">\n",
       "      <th></th>\n",
       "      <th>Firm ID number</th>\n",
       "      <th>Stock price</th>\n",
       "      <th>Permanent Earnings per share</th>\n",
       "      <th>Transitory Earnings per share</th>\n",
       "      <th>Earnings per share</th>\n",
       "    </tr>\n",
       "  </thead>\n",
       "  <tbody>\n",
       "    <tr>\n",
       "      <th>0</th>\n",
       "      <td>1</td>\n",
       "      <td>$32.04</td>\n",
       "      <td>3.196531792</td>\n",
       "      <td>0.901537047</td>\n",
       "      <td>4.098068839</td>\n",
       "    </tr>\n",
       "    <tr>\n",
       "      <th>1</th>\n",
       "      <td>2</td>\n",
       "      <td>$19.99</td>\n",
       "      <td>1.858203694</td>\n",
       "      <td>0.461789726</td>\n",
       "      <td>2.31999342</td>\n",
       "    </tr>\n",
       "    <tr>\n",
       "      <th>2</th>\n",
       "      <td>3</td>\n",
       "      <td>$18.93</td>\n",
       "      <td>1.479520196</td>\n",
       "      <td>0.324834428</td>\n",
       "      <td>1.804354623</td>\n",
       "    </tr>\n",
       "    <tr>\n",
       "      <th>3</th>\n",
       "      <td>4</td>\n",
       "      <td>$16.99</td>\n",
       "      <td>1.401072386</td>\n",
       "      <td>0.363023304</td>\n",
       "      <td>1.76409569</td>\n",
       "    </tr>\n",
       "    <tr>\n",
       "      <th>4</th>\n",
       "      <td>5</td>\n",
       "      <td>$23.30</td>\n",
       "      <td>2.058145612</td>\n",
       "      <td>0.607008279</td>\n",
       "      <td>2.665153891</td>\n",
       "    </tr>\n",
       "    <tr>\n",
       "      <th>...</th>\n",
       "      <td>...</td>\n",
       "      <td>...</td>\n",
       "      <td>...</td>\n",
       "      <td>...</td>\n",
       "      <td>...</td>\n",
       "    </tr>\n",
       "    <tr>\n",
       "      <th>75</th>\n",
       "      <td>76</td>\n",
       "      <td>$33.76</td>\n",
       "      <td>3.149658128</td>\n",
       "      <td>0.446014899</td>\n",
       "      <td>3.595673028</td>\n",
       "    </tr>\n",
       "    <tr>\n",
       "      <th>76</th>\n",
       "      <td>77</td>\n",
       "      <td>$19.76</td>\n",
       "      <td>1.79693608</td>\n",
       "      <td>0.382118331</td>\n",
       "      <td>2.179054411</td>\n",
       "    </tr>\n",
       "    <tr>\n",
       "      <th>77</th>\n",
       "      <td>78</td>\n",
       "      <td>$33.27</td>\n",
       "      <td>3.083121356</td>\n",
       "      <td>0.239893555</td>\n",
       "      <td>3.32301491</td>\n",
       "    </tr>\n",
       "    <tr>\n",
       "      <th>78</th>\n",
       "      <td>79</td>\n",
       "      <td>$18.07</td>\n",
       "      <td>1.69572036</td>\n",
       "      <td>0.546037499</td>\n",
       "      <td>2.241757859</td>\n",
       "    </tr>\n",
       "    <tr>\n",
       "      <th>79</th>\n",
       "      <td>80</td>\n",
       "      <td>$24.67</td>\n",
       "      <td>2.516422657</td>\n",
       "      <td>1.141086802</td>\n",
       "      <td>3.657509459</td>\n",
       "    </tr>\n",
       "  </tbody>\n",
       "</table>\n",
       "<p>80 rows × 5 columns</p>\n",
       "</div>"
      ],
      "text/plain": [
       "    Firm ID number Stock price Permanent Earnings per share  \\\n",
       "0                1     $32.04                   3.196531792   \n",
       "1                2     $19.99                   1.858203694   \n",
       "2                3     $18.93                   1.479520196   \n",
       "3                4     $16.99                   1.401072386   \n",
       "4                5     $23.30                   2.058145612   \n",
       "..             ...         ...                          ...   \n",
       "75              76     $33.76                   3.149658128   \n",
       "76              77     $19.76                    1.79693608   \n",
       "77              78     $33.27                   3.083121356   \n",
       "78              79     $18.07                    1.69572036   \n",
       "79              80     $24.67                   2.516422657   \n",
       "\n",
       "   Transitory Earnings per share Earnings per share  \n",
       "0                    0.901537047        4.098068839  \n",
       "1                    0.461789726         2.31999342  \n",
       "2                    0.324834428        1.804354623  \n",
       "3                    0.363023304         1.76409569  \n",
       "4                    0.607008279        2.665153891  \n",
       "..                           ...                ...  \n",
       "75                   0.446014899        3.595673028  \n",
       "76                   0.382118331        2.179054411  \n",
       "77                   0.239893555         3.32301491  \n",
       "78                   0.546037499        2.241757859  \n",
       "79                   1.141086802        3.657509459  \n",
       "\n",
       "[80 rows x 5 columns]"
      ]
     },
     "execution_count": 11,
     "metadata": {},
     "output_type": "execute_result"
    }
   ],
   "source": [
    "#If you want to see your data\n",
    "trainingdata"
   ]
  },
  {
   "cell_type": "code",
   "execution_count": 12,
   "metadata": {
    "id": "pi1AymVaCKR9"
   },
   "outputs": [
    {
     "data": {
      "text/plain": [
       "Firm ID number                    int64\n",
       "Stock price                      object\n",
       "Permanent Earnings per share     object\n",
       "Transitory Earnings per share    object\n",
       "Earnings per share               object\n",
       "dtype: object"
      ]
     },
     "execution_count": 12,
     "metadata": {},
     "output_type": "execute_result"
    }
   ],
   "source": [
    "#put your code here to see the data type of each column\n",
    "trainingdata.dtypes"
   ]
  },
  {
   "cell_type": "markdown",
   "metadata": {
    "id": "8w_PQwPLoxNG"
   },
   "source": [
    "#### **(1a) Can you find stock price in the \"trainingdata\"? How to read it into dataframe \"traningdata\" as a number instead of a string? Hint: you need to add a converter for the relevant column.** "
   ]
  },
  {
   "cell_type": "code",
   "execution_count": 13,
   "metadata": {
    "id": "BXScDbQ0oxNG"
   },
   "outputs": [],
   "source": [
    "# Enter code here to remove the dollar sign in the stock price"
   ]
  },
  {
   "cell_type": "code",
   "execution_count": 14,
   "metadata": {
    "id": "acGhHoLQrabA"
   },
   "outputs": [
    {
     "data": {
      "text/html": [
       "<div>\n",
       "<style scoped>\n",
       "    .dataframe tbody tr th:only-of-type {\n",
       "        vertical-align: middle;\n",
       "    }\n",
       "\n",
       "    .dataframe tbody tr th {\n",
       "        vertical-align: top;\n",
       "    }\n",
       "\n",
       "    .dataframe thead th {\n",
       "        text-align: right;\n",
       "    }\n",
       "</style>\n",
       "<table border=\"1\" class=\"dataframe\">\n",
       "  <thead>\n",
       "    <tr style=\"text-align: right;\">\n",
       "      <th></th>\n",
       "      <th>Firm ID number</th>\n",
       "      <th>Stock price</th>\n",
       "      <th>Permanent Earnings per share</th>\n",
       "      <th>Transitory Earnings per share</th>\n",
       "      <th>Earnings per share</th>\n",
       "    </tr>\n",
       "  </thead>\n",
       "  <tbody>\n",
       "    <tr>\n",
       "      <th>0</th>\n",
       "      <td>1</td>\n",
       "      <td>32.04</td>\n",
       "      <td>3.196531792</td>\n",
       "      <td>0.901537047</td>\n",
       "      <td>4.098068839</td>\n",
       "    </tr>\n",
       "    <tr>\n",
       "      <th>1</th>\n",
       "      <td>2</td>\n",
       "      <td>19.99</td>\n",
       "      <td>1.858203694</td>\n",
       "      <td>0.461789726</td>\n",
       "      <td>2.31999342</td>\n",
       "    </tr>\n",
       "    <tr>\n",
       "      <th>2</th>\n",
       "      <td>3</td>\n",
       "      <td>18.93</td>\n",
       "      <td>1.479520196</td>\n",
       "      <td>0.324834428</td>\n",
       "      <td>1.804354623</td>\n",
       "    </tr>\n",
       "    <tr>\n",
       "      <th>3</th>\n",
       "      <td>4</td>\n",
       "      <td>16.99</td>\n",
       "      <td>1.401072386</td>\n",
       "      <td>0.363023304</td>\n",
       "      <td>1.76409569</td>\n",
       "    </tr>\n",
       "    <tr>\n",
       "      <th>4</th>\n",
       "      <td>5</td>\n",
       "      <td>23.30</td>\n",
       "      <td>2.058145612</td>\n",
       "      <td>0.607008279</td>\n",
       "      <td>2.665153891</td>\n",
       "    </tr>\n",
       "    <tr>\n",
       "      <th>5</th>\n",
       "      <td>6</td>\n",
       "      <td>20.10</td>\n",
       "      <td>1.790338164</td>\n",
       "      <td>0.778743961</td>\n",
       "      <td>2.569082126</td>\n",
       "    </tr>\n",
       "    <tr>\n",
       "      <th>6</th>\n",
       "      <td>7</td>\n",
       "      <td>15.77</td>\n",
       "      <td>1.218859456</td>\n",
       "      <td>0.483420374</td>\n",
       "      <td>1.70227983</td>\n",
       "    </tr>\n",
       "    <tr>\n",
       "      <th>7</th>\n",
       "      <td>8</td>\n",
       "      <td>35.74</td>\n",
       "      <td>3.550036753</td>\n",
       "      <td>0.633571354</td>\n",
       "      <td>4.183608107</td>\n",
       "    </tr>\n",
       "    <tr>\n",
       "      <th>8</th>\n",
       "      <td>9</td>\n",
       "      <td>16.22</td>\n",
       "      <td>1.396175227</td>\n",
       "      <td>0.543075245</td>\n",
       "      <td>1.939250472</td>\n",
       "    </tr>\n",
       "    <tr>\n",
       "      <th>9</th>\n",
       "      <td>10</td>\n",
       "      <td>18.30</td>\n",
       "      <td>1.690487885</td>\n",
       "      <td>0.742018664</td>\n",
       "      <td>2.432506549</td>\n",
       "    </tr>\n",
       "  </tbody>\n",
       "</table>\n",
       "</div>"
      ],
      "text/plain": [
       "   Firm ID number Stock price Permanent Earnings per share  \\\n",
       "0               1      32.04                   3.196531792   \n",
       "1               2      19.99                   1.858203694   \n",
       "2               3      18.93                   1.479520196   \n",
       "3               4      16.99                   1.401072386   \n",
       "4               5      23.30                   2.058145612   \n",
       "5               6      20.10                   1.790338164   \n",
       "6               7      15.77                   1.218859456   \n",
       "7               8      35.74                   3.550036753   \n",
       "8               9      16.22                   1.396175227   \n",
       "9              10      18.30                   1.690487885   \n",
       "\n",
       "  Transitory Earnings per share Earnings per share  \n",
       "0                   0.901537047        4.098068839  \n",
       "1                   0.461789726         2.31999342  \n",
       "2                   0.324834428        1.804354623  \n",
       "3                   0.363023304         1.76409569  \n",
       "4                   0.607008279        2.665153891  \n",
       "5                   0.778743961        2.569082126  \n",
       "6                   0.483420374         1.70227983  \n",
       "7                   0.633571354        4.183608107  \n",
       "8                   0.543075245        1.939250472  \n",
       "9                   0.742018664        2.432506549  "
      ]
     },
     "execution_count": 14,
     "metadata": {},
     "output_type": "execute_result"
    }
   ],
   "source": [
    "trainingdata['Stock price'] = trainingdata['Stock price'].str[1:]\n",
    "trainingdata.head(10)"
   ]
  },
  {
   "cell_type": "code",
   "execution_count": 15,
   "metadata": {
    "id": "fcAmixKPCoyF"
   },
   "outputs": [],
   "source": [
    "# Convert object data type to numeric data type\n",
    "trainingdata['Stock price'] = pd.to_numeric(trainingdata['Stock price'], errors='coerce')\n",
    "# Enter code here to convert other columns into numeric data types\n",
    "cols = ['Permanent Earnings per share', 'Transitory Earnings per share', 'Earnings per share']\n",
    "trainingdata[cols] = trainingdata[cols].apply(pd.to_numeric, errors='coerce', axis=1)"
   ]
  },
  {
   "cell_type": "markdown",
   "metadata": {
    "id": "okQiROm5oxNH"
   },
   "source": [
    "#### **(1b) In some obervations, the variables are missing. Please drop these observations.**"
   ]
  },
  {
   "cell_type": "code",
   "execution_count": 16,
   "metadata": {
    "id": "68iCN6hsoxNI"
   },
   "outputs": [
    {
     "data": {
      "text/html": [
       "<div>\n",
       "<style scoped>\n",
       "    .dataframe tbody tr th:only-of-type {\n",
       "        vertical-align: middle;\n",
       "    }\n",
       "\n",
       "    .dataframe tbody tr th {\n",
       "        vertical-align: top;\n",
       "    }\n",
       "\n",
       "    .dataframe thead th {\n",
       "        text-align: right;\n",
       "    }\n",
       "</style>\n",
       "<table border=\"1\" class=\"dataframe\">\n",
       "  <thead>\n",
       "    <tr style=\"text-align: right;\">\n",
       "      <th></th>\n",
       "      <th>Firm ID number</th>\n",
       "      <th>Stock price</th>\n",
       "      <th>Permanent Earnings per share</th>\n",
       "      <th>Transitory Earnings per share</th>\n",
       "      <th>Earnings per share</th>\n",
       "    </tr>\n",
       "  </thead>\n",
       "  <tbody>\n",
       "    <tr>\n",
       "      <th>0</th>\n",
       "      <td>1</td>\n",
       "      <td>32.04</td>\n",
       "      <td>3.196532</td>\n",
       "      <td>0.901537</td>\n",
       "      <td>4.098069</td>\n",
       "    </tr>\n",
       "    <tr>\n",
       "      <th>1</th>\n",
       "      <td>2</td>\n",
       "      <td>19.99</td>\n",
       "      <td>1.858204</td>\n",
       "      <td>0.461790</td>\n",
       "      <td>2.319993</td>\n",
       "    </tr>\n",
       "    <tr>\n",
       "      <th>2</th>\n",
       "      <td>3</td>\n",
       "      <td>18.93</td>\n",
       "      <td>1.479520</td>\n",
       "      <td>0.324834</td>\n",
       "      <td>1.804355</td>\n",
       "    </tr>\n",
       "    <tr>\n",
       "      <th>3</th>\n",
       "      <td>4</td>\n",
       "      <td>16.99</td>\n",
       "      <td>1.401072</td>\n",
       "      <td>0.363023</td>\n",
       "      <td>1.764096</td>\n",
       "    </tr>\n",
       "    <tr>\n",
       "      <th>4</th>\n",
       "      <td>5</td>\n",
       "      <td>23.30</td>\n",
       "      <td>2.058146</td>\n",
       "      <td>0.607008</td>\n",
       "      <td>2.665154</td>\n",
       "    </tr>\n",
       "    <tr>\n",
       "      <th>5</th>\n",
       "      <td>6</td>\n",
       "      <td>20.10</td>\n",
       "      <td>1.790338</td>\n",
       "      <td>0.778744</td>\n",
       "      <td>2.569082</td>\n",
       "    </tr>\n",
       "    <tr>\n",
       "      <th>6</th>\n",
       "      <td>7</td>\n",
       "      <td>15.77</td>\n",
       "      <td>1.218859</td>\n",
       "      <td>0.483420</td>\n",
       "      <td>1.702280</td>\n",
       "    </tr>\n",
       "    <tr>\n",
       "      <th>7</th>\n",
       "      <td>8</td>\n",
       "      <td>35.74</td>\n",
       "      <td>3.550037</td>\n",
       "      <td>0.633571</td>\n",
       "      <td>4.183608</td>\n",
       "    </tr>\n",
       "    <tr>\n",
       "      <th>8</th>\n",
       "      <td>9</td>\n",
       "      <td>16.22</td>\n",
       "      <td>1.396175</td>\n",
       "      <td>0.543075</td>\n",
       "      <td>1.939250</td>\n",
       "    </tr>\n",
       "    <tr>\n",
       "      <th>9</th>\n",
       "      <td>10</td>\n",
       "      <td>18.30</td>\n",
       "      <td>1.690488</td>\n",
       "      <td>0.742019</td>\n",
       "      <td>2.432507</td>\n",
       "    </tr>\n",
       "    <tr>\n",
       "      <th>10</th>\n",
       "      <td>11</td>\n",
       "      <td>15.94</td>\n",
       "      <td>1.311074</td>\n",
       "      <td>0.190859</td>\n",
       "      <td>1.501933</td>\n",
       "    </tr>\n",
       "    <tr>\n",
       "      <th>11</th>\n",
       "      <td>12</td>\n",
       "      <td>21.52</td>\n",
       "      <td>1.903442</td>\n",
       "      <td>0.443182</td>\n",
       "      <td>2.346624</td>\n",
       "    </tr>\n",
       "    <tr>\n",
       "      <th>12</th>\n",
       "      <td>13</td>\n",
       "      <td>17.18</td>\n",
       "      <td>1.477580</td>\n",
       "      <td>0.269126</td>\n",
       "      <td>1.746706</td>\n",
       "    </tr>\n",
       "    <tr>\n",
       "      <th>14</th>\n",
       "      <td>15</td>\n",
       "      <td>38.31</td>\n",
       "      <td>3.631041</td>\n",
       "      <td>0.486247</td>\n",
       "      <td>4.117288</td>\n",
       "    </tr>\n",
       "    <tr>\n",
       "      <th>15</th>\n",
       "      <td>16</td>\n",
       "      <td>45.19</td>\n",
       "      <td>4.113574</td>\n",
       "      <td>0.298462</td>\n",
       "      <td>4.412036</td>\n",
       "    </tr>\n",
       "    <tr>\n",
       "      <th>16</th>\n",
       "      <td>17</td>\n",
       "      <td>18.97</td>\n",
       "      <td>1.694845</td>\n",
       "      <td>0.338522</td>\n",
       "      <td>2.033368</td>\n",
       "    </tr>\n",
       "    <tr>\n",
       "      <th>17</th>\n",
       "      <td>18</td>\n",
       "      <td>22.46</td>\n",
       "      <td>1.974842</td>\n",
       "      <td>0.617504</td>\n",
       "      <td>2.592346</td>\n",
       "    </tr>\n",
       "    <tr>\n",
       "      <th>18</th>\n",
       "      <td>19</td>\n",
       "      <td>32.88</td>\n",
       "      <td>3.313538</td>\n",
       "      <td>1.222579</td>\n",
       "      <td>4.536117</td>\n",
       "    </tr>\n",
       "    <tr>\n",
       "      <th>19</th>\n",
       "      <td>20</td>\n",
       "      <td>32.13</td>\n",
       "      <td>3.247904</td>\n",
       "      <td>0.767650</td>\n",
       "      <td>4.015555</td>\n",
       "    </tr>\n",
       "    <tr>\n",
       "      <th>21</th>\n",
       "      <td>22</td>\n",
       "      <td>25.49</td>\n",
       "      <td>2.564011</td>\n",
       "      <td>0.770617</td>\n",
       "      <td>3.334629</td>\n",
       "    </tr>\n",
       "    <tr>\n",
       "      <th>22</th>\n",
       "      <td>23</td>\n",
       "      <td>14.43</td>\n",
       "      <td>1.056275</td>\n",
       "      <td>0.191468</td>\n",
       "      <td>1.247743</td>\n",
       "    </tr>\n",
       "    <tr>\n",
       "      <th>23</th>\n",
       "      <td>24</td>\n",
       "      <td>26.48</td>\n",
       "      <td>2.591121</td>\n",
       "      <td>0.837328</td>\n",
       "      <td>3.428450</td>\n",
       "    </tr>\n",
       "    <tr>\n",
       "      <th>24</th>\n",
       "      <td>25</td>\n",
       "      <td>27.82</td>\n",
       "      <td>2.364399</td>\n",
       "      <td>0.293697</td>\n",
       "      <td>2.658096</td>\n",
       "    </tr>\n",
       "    <tr>\n",
       "      <th>25</th>\n",
       "      <td>26</td>\n",
       "      <td>21.31</td>\n",
       "      <td>1.808340</td>\n",
       "      <td>0.506860</td>\n",
       "      <td>2.315200</td>\n",
       "    </tr>\n",
       "    <tr>\n",
       "      <th>26</th>\n",
       "      <td>27</td>\n",
       "      <td>16.90</td>\n",
       "      <td>1.198007</td>\n",
       "      <td>0.176519</td>\n",
       "      <td>1.374526</td>\n",
       "    </tr>\n",
       "    <tr>\n",
       "      <th>28</th>\n",
       "      <td>29</td>\n",
       "      <td>23.84</td>\n",
       "      <td>2.011830</td>\n",
       "      <td>0.200265</td>\n",
       "      <td>2.212095</td>\n",
       "    </tr>\n",
       "    <tr>\n",
       "      <th>29</th>\n",
       "      <td>30</td>\n",
       "      <td>27.34</td>\n",
       "      <td>2.472526</td>\n",
       "      <td>0.394716</td>\n",
       "      <td>2.867241</td>\n",
       "    </tr>\n",
       "    <tr>\n",
       "      <th>30</th>\n",
       "      <td>31</td>\n",
       "      <td>38.00</td>\n",
       "      <td>3.876877</td>\n",
       "      <td>1.046046</td>\n",
       "      <td>4.922923</td>\n",
       "    </tr>\n",
       "    <tr>\n",
       "      <th>31</th>\n",
       "      <td>32</td>\n",
       "      <td>24.35</td>\n",
       "      <td>2.315073</td>\n",
       "      <td>0.483800</td>\n",
       "      <td>2.798873</td>\n",
       "    </tr>\n",
       "    <tr>\n",
       "      <th>32</th>\n",
       "      <td>33</td>\n",
       "      <td>19.04</td>\n",
       "      <td>1.484585</td>\n",
       "      <td>0.312054</td>\n",
       "      <td>1.796639</td>\n",
       "    </tr>\n",
       "  </tbody>\n",
       "</table>\n",
       "</div>"
      ],
      "text/plain": [
       "    Firm ID number  Stock price  Permanent Earnings per share  \\\n",
       "0                1        32.04                      3.196532   \n",
       "1                2        19.99                      1.858204   \n",
       "2                3        18.93                      1.479520   \n",
       "3                4        16.99                      1.401072   \n",
       "4                5        23.30                      2.058146   \n",
       "5                6        20.10                      1.790338   \n",
       "6                7        15.77                      1.218859   \n",
       "7                8        35.74                      3.550037   \n",
       "8                9        16.22                      1.396175   \n",
       "9               10        18.30                      1.690488   \n",
       "10              11        15.94                      1.311074   \n",
       "11              12        21.52                      1.903442   \n",
       "12              13        17.18                      1.477580   \n",
       "14              15        38.31                      3.631041   \n",
       "15              16        45.19                      4.113574   \n",
       "16              17        18.97                      1.694845   \n",
       "17              18        22.46                      1.974842   \n",
       "18              19        32.88                      3.313538   \n",
       "19              20        32.13                      3.247904   \n",
       "21              22        25.49                      2.564011   \n",
       "22              23        14.43                      1.056275   \n",
       "23              24        26.48                      2.591121   \n",
       "24              25        27.82                      2.364399   \n",
       "25              26        21.31                      1.808340   \n",
       "26              27        16.90                      1.198007   \n",
       "28              29        23.84                      2.011830   \n",
       "29              30        27.34                      2.472526   \n",
       "30              31        38.00                      3.876877   \n",
       "31              32        24.35                      2.315073   \n",
       "32              33        19.04                      1.484585   \n",
       "\n",
       "    Transitory Earnings per share  Earnings per share  \n",
       "0                        0.901537            4.098069  \n",
       "1                        0.461790            2.319993  \n",
       "2                        0.324834            1.804355  \n",
       "3                        0.363023            1.764096  \n",
       "4                        0.607008            2.665154  \n",
       "5                        0.778744            2.569082  \n",
       "6                        0.483420            1.702280  \n",
       "7                        0.633571            4.183608  \n",
       "8                        0.543075            1.939250  \n",
       "9                        0.742019            2.432507  \n",
       "10                       0.190859            1.501933  \n",
       "11                       0.443182            2.346624  \n",
       "12                       0.269126            1.746706  \n",
       "14                       0.486247            4.117288  \n",
       "15                       0.298462            4.412036  \n",
       "16                       0.338522            2.033368  \n",
       "17                       0.617504            2.592346  \n",
       "18                       1.222579            4.536117  \n",
       "19                       0.767650            4.015555  \n",
       "21                       0.770617            3.334629  \n",
       "22                       0.191468            1.247743  \n",
       "23                       0.837328            3.428450  \n",
       "24                       0.293697            2.658096  \n",
       "25                       0.506860            2.315200  \n",
       "26                       0.176519            1.374526  \n",
       "28                       0.200265            2.212095  \n",
       "29                       0.394716            2.867241  \n",
       "30                       1.046046            4.922923  \n",
       "31                       0.483800            2.798873  \n",
       "32                       0.312054            1.796639  "
      ]
     },
     "execution_count": 16,
     "metadata": {},
     "output_type": "execute_result"
    }
   ],
   "source": [
    "# Enter code here to drop the observations which has missing variables\n",
    "trainingdata.dropna(inplace=True)\n",
    "# If you want to see the data again\n",
    "trainingdata.head(30)"
   ]
  },
  {
   "cell_type": "markdown",
   "metadata": {
    "id": "uW7WkPpxoxNJ"
   },
   "source": [
    "#### **(1c) Find the relationship between the Earnings per share and stock price by plotting stock price against it**"
   ]
  },
  {
   "cell_type": "code",
   "execution_count": 35,
   "metadata": {
    "id": "kL2CiUV6oxNK"
   },
   "outputs": [
    {
     "data": {
      "text/plain": [
       "<AxesSubplot:xlabel='Earnings per share', ylabel='Stock price'>"
      ]
     },
     "execution_count": 35,
     "metadata": {},
     "output_type": "execute_result"
    },
    {
     "data": {
      "image/png": "[encoded data removed]",
      "text/plain": [
       "<Figure size 432x288 with 1 Axes>"
      ]
     },
     "metadata": {
      "needs_background": "light"
     },
     "output_type": "display_data"
    }
   ],
   "source": [
    "#Enter code here to plot the relationship\n",
    "trainingdata.plot('Earnings per share', 'Stock price', kind='scatter')\n",
    "#Alternatively, check the Correlation Matrix\n",
    "#trainingdata.corr()"
   ]
  },
  {
   "cell_type": "markdown",
   "metadata": {
    "id": "7EBbhRodoxNL"
   },
   "source": [
    "#### **(1d) Comment on the relationships above**\n",
    "a.\tIs it a positive or negative relationship, or is there no relationship?\n",
    "b.\tHow does stock price change for a unit change in Earnings per share ? "
   ]
  },
  {
   "cell_type": "code",
   "execution_count": null,
   "metadata": {
    "id": "cDpqu8InoxNL"
   },
   "outputs": [],
   "source": [
    "print (len((\"Strong, Positive Relationship, Increases for Unit Change in Earnings Per Share\").split()))"
   ]
  },
  {
   "cell_type": "markdown",
   "metadata": {
    "id": "DrW8b5LdoxNM"
   },
   "source": [
    "#### **(1e)  Find the relationship between the Transitory Earnings per share and stock price by plotting stock price against it**"
   ]
  },
  {
   "cell_type": "code",
   "execution_count": 22,
   "metadata": {
    "id": "TfdtFvWKoxNN"
   },
   "outputs": [
    {
     "data": {
      "text/plain": [
       "<AxesSubplot:xlabel='Transitory Earnings per share', ylabel='Stock price'>"
      ]
     },
     "execution_count": 22,
     "metadata": {},
     "output_type": "execute_result"
    },
    {
     "data": {
      "image/png": "[encoded data removed]",
      "text/plain": [
       "<Figure size 432x288 with 1 Axes>"
      ]
     },
     "metadata": {
      "needs_background": "light"
     },
     "output_type": "display_data"
    }
   ],
   "source": [
    "#Enter code here to plot the relationship\n",
    "trainingdata.plot('Transitory Earnings per share', 'Stock price', kind='scatter')\n",
    "#Check the Correlation Coefficient using np.corrcoef() function\n",
    "#np.corrcoef(trainingdata['Earnings per share'], trainingdata['Stock price'])"
   ]
  },
  {
   "cell_type": "markdown",
   "metadata": {
    "id": "QUSL_t9MoxNO"
   },
   "source": [
    "#### **(1f) Comment on the relationships above**\n",
    "a.\tIs it a positive or negative relationship, or is there no relationship?\n",
    "b.\tHow does stock price change for a unit change in Transitory Earnings?"
   ]
  },
  {
   "cell_type": "code",
   "execution_count": null,
   "metadata": {
    "id": "0SWIt4qyoxNP"
   },
   "outputs": [],
   "source": [
    "print (len((\"Weak, Positive Relationship, Increases for Unit Change in Transitory Earnings\").split()))"
   ]
  },
  {
   "cell_type": "markdown",
   "metadata": {
    "id": "Zo65BkN9oxNQ"
   },
   "source": [
    "#### **(1g) Find the relationship between the Permanent Earnings per share and stock price by plotting stock price against it** \n"
   ]
  },
  {
   "cell_type": "code",
   "execution_count": 23,
   "metadata": {
    "id": "tdiD7EcvoxNQ"
   },
   "outputs": [
    {
     "data": {
      "text/plain": [
       "<AxesSubplot:xlabel='Permanent Earnings per share', ylabel='Stock price'>"
      ]
     },
     "execution_count": 23,
     "metadata": {},
     "output_type": "execute_result"
    },
    {
     "data": {
      "image/png": "[encoded data removed]",
      "text/plain": [
       "<Figure size 432x288 with 1 Axes>"
      ]
     },
     "metadata": {
      "needs_background": "light"
     },
     "output_type": "display_data"
    }
   ],
   "source": [
    "#Enter code here to plot the relationship\n",
    "trainingdata.plot('Permanent Earnings per share', 'Stock price', kind='scatter')"
   ]
  },
  {
   "cell_type": "markdown",
   "metadata": {
    "id": "aruaKoXgoxNS"
   },
   "source": [
    "#### **(1h) Comment on the relationships above**\n",
    "a.\tIs it a positive or negative relationship, or is there no relationship?\n",
    "b.\tHow does stock price change for a unit change in Permanent Earnings?"
   ]
  },
  {
   "cell_type": "code",
   "execution_count": null,
   "metadata": {
    "id": "irO7ezRDoxNS"
   },
   "outputs": [],
   "source": [
    "print (len((\"Strong, Positive Relationship, Increases for Unit Change in Permanent Earnings\").split()))"
   ]
  },
  {
   "cell_type": "markdown",
   "metadata": {
    "id": "Kldlm_WNoxNT"
   },
   "source": [
    "\n",
    "\n",
    "### 2) The next two lines split the data into two chunks. Train_X is the features and their values from the training dataset. Train_y is the class value that we want to predict.Note: we have removed Earnings per share from trainging data since it is a sum of permanent and transitory earnings per share. \n"
   ]
  },
  {
   "cell_type": "code",
   "execution_count": 25,
   "metadata": {
    "id": "w0mp73oFoxNU"
   },
   "outputs": [
    {
     "name": "stdout",
     "output_type": "stream",
     "text": [
      "[[3.19653179 0.90153705]\n",
      " [1.85820369 0.46178973]\n",
      " [1.4795202  0.32483443]\n",
      " [1.40107239 0.3630233 ]\n",
      " [2.05814561 0.60700828]\n",
      " [1.79033816 0.77874396]\n",
      " [1.21885946 0.48342037]\n",
      " [3.55003675 0.63357135]\n",
      " [1.39617523 0.54307525]\n",
      " [1.69048789 0.74201866]\n",
      " [1.31107405 0.19085943]\n",
      " [1.90344157 0.44318224]\n",
      " [1.47757957 0.2691265 ]\n",
      " [3.63104113 0.48624679]\n",
      " [4.1135737  0.29846235]\n",
      " [1.69484522 0.33852236]\n",
      " [1.97484161 0.61750405]\n",
      " [3.31353755 1.22257905]\n",
      " [3.24790425 0.76765034]\n",
      " [2.56401123 0.77061744]\n",
      " [1.05627491 0.19146827]\n",
      " [2.59112129 0.83732831]\n",
      " [2.36439895 0.29369672]\n",
      " [1.80834035 0.50686003]\n",
      " [1.19800715 0.17651901]\n",
      " [2.01182967 0.20026529]\n",
      " [2.47252569 0.39471555]\n",
      " [3.87687688 1.04604605]\n",
      " [2.31507315 0.48380023]\n",
      " [1.48458469 0.31205416]\n",
      " [4.09821332 1.2840823 ]\n",
      " [1.44561157 0.28582042]\n",
      " [4.10476072 1.20696325]\n",
      " [4.32210384 0.49879904]\n",
      " [1.56618979 0.48069595]\n",
      " [1.36096951 0.34921646]\n",
      " [3.05324288 0.56973995]\n",
      " [0.95084974 0.18398197]\n",
      " [1.71230431 0.45456738]\n",
      " [0.86388546 0.22323857]\n",
      " [1.57753794 0.64365699]\n",
      " [2.6389517  0.72620761]\n",
      " [2.31500218 0.50573128]\n",
      " [1.96647881 0.53892715]\n",
      " [1.20296694 0.51024611]\n",
      " [1.048178   0.37683952]\n",
      " [1.44227886 0.59200834]\n",
      " [2.04420798 0.6700695 ]\n",
      " [1.85124495 0.8201745 ]\n",
      " [2.24198791 0.54187551]\n",
      " [1.06452963 0.63359937]\n",
      " [1.16883795 0.17397676]\n",
      " [1.73609731 0.83210553]\n",
      " [1.37968461 0.3656335 ]\n",
      " [1.5438293  0.47189892]\n",
      " [2.79114297 0.67439539]\n",
      " [3.12887085 0.93211764]\n",
      " [1.52191108 0.50949431]\n",
      " [3.06344753 0.47110467]\n",
      " [1.23947144 0.43865267]\n",
      " [4.64866868 1.26632483]\n",
      " [2.06682952 0.66503815]\n",
      " [1.73435993 0.22037106]\n",
      " [3.52121658 0.82879568]\n",
      " [1.43166319 0.25006992]\n",
      " [2.43836295 0.71932309]\n",
      " [2.20112666 0.63753191]\n",
      " [2.91289234 0.63377978]\n",
      " [2.97249948 0.38448742]\n",
      " [2.39909175 0.62892549]\n",
      " [1.31977773 0.38184812]\n",
      " [1.63704203 0.12440422]\n",
      " [3.14965813 0.4460149 ]\n",
      " [1.79693608 0.38211833]\n",
      " [3.08312136 0.23989356]\n",
      " [1.69572036 0.5460375 ]\n",
      " [2.51642266 1.1410868 ]]\n"
     ]
    }
   ],
   "source": [
    "#This creates an array of features that includes all features except 'Stock price', 'Firm ID' and 'Earnings per share'. 'Stock price' is which is what we want to predict\n",
    "Train_X = np.array(trainingdata.drop(['Stock price','Firm ID number','Earnings per share'],1))\n",
    "\n",
    "#This creates an array that includes ONLY 'Stock price'\n",
    "Train_y = np.array(trainingdata['Stock price'])\n",
    "\n",
    "print (Train_X)"
   ]
  },
  {
   "cell_type": "markdown",
   "metadata": {
    "id": "PtsTHeu4oxNV"
   },
   "source": [
    "### 3) Next we actually make the predictor. We're using Linear Regression([documentation if you're interested](https://scikit-learn.org/stable/modules/generated/sklearn.linear_model.LinearRegression.html)) within sklearn."
   ]
  },
  {
   "cell_type": "code",
   "execution_count": 26,
   "metadata": {
    "id": "3GFm1uxioxNV"
   },
   "outputs": [],
   "source": [
    "from sklearn.linear_model import LinearRegression\n",
    "reg = LinearRegression().fit(Train_X, Train_y)"
   ]
  },
  {
   "cell_type": "markdown",
   "metadata": {
    "id": "DagARft3oxNW"
   },
   "source": [
    "### 4) Let's test it out. The following code takes a hand-entered set of data and predicts the stock price:"
   ]
  },
  {
   "cell_type": "code",
   "execution_count": 27,
   "metadata": {
    "id": "EfTGfR41oxNX",
    "scrolled": true
   },
   "outputs": [
    {
     "name": "stdout",
     "output_type": "stream",
     "text": [
      "Prediction: [29.79117926]\n"
     ]
    }
   ],
   "source": [
    "#You can play with this\n",
    "prediction = reg.predict(np.asarray([3,1]).reshape(1,-1))\n",
    "\n",
    "print('Prediction:', prediction)"
   ]
  },
  {
   "cell_type": "markdown",
   "metadata": {
    "id": "jKf_Z6hZDS1Q"
   },
   "source": [
    "Then Let's print out the cofficients and intercept."
   ]
  },
  {
   "cell_type": "code",
   "execution_count": 28,
   "metadata": {
    "id": "dhkK03tDDThU"
   },
   "outputs": [
    {
     "name": "stdout",
     "output_type": "stream",
     "text": [
      "\n",
      "Coefficient of model : [ 9.78586909 -4.57709238]\n",
      "\n",
      "Intercept of model 5.0106643563804525\n"
     ]
    }
   ],
   "source": [
    "# coefficeints of the trained model\n",
    "print('\\nCoefficient of model :', reg.coef_)\n",
    "\n",
    "# intercept of the model\n",
    "print('\\nIntercept of model',reg.intercept_)"
   ]
  },
  {
   "cell_type": "markdown",
   "metadata": {
    "id": "z4EwC4uBoxNY"
   },
   "source": [
    "### 5) The next thing we need to do is to import the test set (stocktestdata.csv) and see how good our classifier is at predicting the values there. Do this, following the same steps as above to import and convert to arrays. Put the features in an array called 'Test_X' and the class (Stock price) in an array called 'Test_y'."
   ]
  },
  {
   "cell_type": "code",
   "execution_count": 29,
   "metadata": {
    "id": "dN4I7Fx0oxNY"
   },
   "outputs": [],
   "source": [
    "# Write code here to import the test data and convert into arrays\n",
    "\n",
    "\n",
    "testdata = pd.read_csv(\"stocktestdata.csv\", header = 0)\n",
    "testdata['Stock price'] = testdata['Stock price'].str[1:]\n",
    "# Convert object data type to numeric data type\n",
    "testdata['Stock price'] = pd.to_numeric(testdata['Stock price'], errors='coerce')\n",
    "cols = ['Permanent Earnings per share', 'Transitory Earnings per share', 'Earnings per share']\n",
    "testdata[cols] = testdata[cols].apply(pd.to_numeric, errors='coerce', axis=1)\n",
    "testdata.dropna(inplace=True)\n",
    "testdata.head(30)\n",
    "\n",
    "Test_X = np.array(testdata.drop(['Stock price','Firm ID number','Earnings per share'],1))\n",
    "Test_y = np.array(testdata['Stock price'])\n"
   ]
  },
  {
   "cell_type": "raw",
   "metadata": {
    "id": "n_y_8-LtoxNZ"
   },
   "source": [
    "If you've imported them correctly, the following code should report the arrays as having dimensions 20 * 5 and 20 * 1:"
   ]
  },
  {
   "cell_type": "code",
   "execution_count": 30,
   "metadata": {
    "id": "pZ8Qn5vioxNZ"
   },
   "outputs": [
    {
     "name": "stdout",
     "output_type": "stream",
     "text": [
      "(20, 2) (20,)\n"
     ]
    }
   ],
   "source": [
    "#Removed Earnings Per Share, Stock Price, Firm ID Number\n",
    "print (Test_X.shape, Test_y.shape)"
   ]
  },
  {
   "cell_type": "markdown",
   "metadata": {
    "id": "rD0WkZhuoxNa"
   },
   "source": [
    "#### 5a)Once you've properly imported the test set data, cleaned it, and put it into arrays, the following code should predict the stock price using the predictor you trained on the training data as applied to the attributes in the testing data. It will output your predictions and then the actual values."
   ]
  },
  {
   "cell_type": "code",
   "execution_count": 31,
   "metadata": {
    "id": "PnRx4ZPooxNb"
   },
   "outputs": [
    {
     "data": {
      "text/plain": [
       "(array([14.75802427, 19.93491969, 27.31284421, 38.06346991, 20.10361726,\n",
       "        24.23432817, 18.72627082, 23.07015695, 12.88938779, 17.09813371,\n",
       "        21.95322379, 18.20480829, 44.61523762, 21.2452249 , 32.34192656,\n",
       "        19.40606156, 19.0159723 , 33.32972583, 30.85611045, 20.85105262]),\n",
       " array([13.7 , 18.88, 28.2 , 39.09, 20.05, 23.17, 18.7 , 24.19, 12.85,\n",
       "        17.45, 21.92, 19.16, 43.51, 21.16, 31.39, 18.33, 18.97, 32.2 ,\n",
       "        30.73, 20.9 ]))"
      ]
     },
     "execution_count": 31,
     "metadata": {},
     "output_type": "execute_result"
    }
   ],
   "source": [
    "#DO NOT EDIT THIS\n",
    "Test_y_predicted = reg.predict(Test_X)\n",
    "\n",
    "Test_y_predicted, Test_y"
   ]
  },
  {
   "cell_type": "markdown",
   "metadata": {
    "id": "WJcFQDVi3ih_"
   },
   "source": []
  },
  {
   "cell_type": "markdown",
   "metadata": {
    "id": "IOK5yIrkoxNb"
   },
   "source": [
    "#### 5b) In the following box, write code to calculate and print out your \"accuracy\" for the model. The accuracy can be represented by mean squared root(MSE), which measures the difference between the values predicted by the model and values observed [See here](https://en.wikipedia.org/wiki/Mean_squared_error).  You could do it manually if you want, but there's an easy [function](https://scikit-learn.org/stable/modules/generated/sklearn.metrics.mean_squared_error.html#sklearn.metrics.mean_squared_error) built into sklearn to do it."
   ]
  },
  {
   "cell_type": "code",
   "execution_count": 32,
   "metadata": {
    "id": "fPRQhj46oxNc"
   },
   "outputs": [
    {
     "data": {
      "text/plain": [
       "0.6045962124014982"
      ]
     },
     "execution_count": 32,
     "metadata": {},
     "output_type": "execute_result"
    }
   ],
   "source": [
    "#CALCULATE AND PRINT OUT YOUR ACCURACY SCORE\n",
    "#HINT: from sklearn import metrics\n",
    "from sklearn.metrics import mean_squared_error\n",
    "mean_squared_error(Test_y, Test_y_predicted)"
   ]
  },
  {
   "cell_type": "markdown",
   "metadata": {
    "id": "SOm52O8joxNd"
   },
   "source": [
    "### **6) Let's make a summary and answer the questions in the background section of \"CIS8005-Fall21-Assignment3\"**"
   ]
  },
  {
   "cell_type": "markdown",
   "metadata": {
    "id": "O87wPJ1loxNd"
   },
   "source": [
    "#### 6a) What is the relation between earnings and stock price."
   ]
  },
  {
   "cell_type": "code",
   "execution_count": 33,
   "metadata": {
    "id": "HQ6AnAQSoxNd"
   },
   "outputs": [
    {
     "name": "stdout",
     "output_type": "stream",
     "text": [
      "9\n"
     ]
    }
   ],
   "source": [
    "print (len((\"Positive, Strong Relationship, Increases with Unit Change\").split()))"
   ]
  },
  {
   "cell_type": "markdown",
   "metadata": {
    "id": "h02BDobuoxNe"
   },
   "source": [
    "#### 6b) Which firms have a stronger relationship between earnings and stock price."
   ]
  },
  {
   "cell_type": "code",
   "execution_count": 40,
   "metadata": {
    "id": "SVE1bl2uoxNe"
   },
   "outputs": [
    {
     "name": "stdout",
     "output_type": "stream",
     "text": [
      "4\n"
     ]
    },
    {
     "data": {
      "text/html": [
       "<div>\n",
       "<style scoped>\n",
       "    .dataframe tbody tr th:only-of-type {\n",
       "        vertical-align: middle;\n",
       "    }\n",
       "\n",
       "    .dataframe tbody tr th {\n",
       "        vertical-align: top;\n",
       "    }\n",
       "\n",
       "    .dataframe thead th {\n",
       "        text-align: right;\n",
       "    }\n",
       "</style>\n",
       "<table border=\"1\" class=\"dataframe\">\n",
       "  <thead>\n",
       "    <tr style=\"text-align: right;\">\n",
       "      <th></th>\n",
       "      <th>Firm ID number</th>\n",
       "      <th>Stock price</th>\n",
       "      <th>Permanent Earnings per share</th>\n",
       "      <th>Transitory Earnings per share</th>\n",
       "      <th>Earnings per share</th>\n",
       "    </tr>\n",
       "  </thead>\n",
       "  <tbody>\n",
       "    <tr>\n",
       "      <th>12</th>\n",
       "      <td>93</td>\n",
       "      <td>43.51</td>\n",
       "      <td>4.753033</td>\n",
       "      <td>1.509251</td>\n",
       "      <td>6.262284</td>\n",
       "    </tr>\n",
       "    <tr>\n",
       "      <th>3</th>\n",
       "      <td>84</td>\n",
       "      <td>39.09</td>\n",
       "      <td>4.065207</td>\n",
       "      <td>1.470100</td>\n",
       "      <td>5.535307</td>\n",
       "    </tr>\n",
       "    <tr>\n",
       "      <th>17</th>\n",
       "      <td>98</td>\n",
       "      <td>32.20</td>\n",
       "      <td>3.337340</td>\n",
       "      <td>0.948137</td>\n",
       "      <td>4.285478</td>\n",
       "    </tr>\n",
       "    <tr>\n",
       "      <th>18</th>\n",
       "      <td>99</td>\n",
       "      <td>30.73</td>\n",
       "      <td>3.031155</td>\n",
       "      <td>0.833945</td>\n",
       "      <td>3.865100</td>\n",
       "    </tr>\n",
       "    <tr>\n",
       "      <th>14</th>\n",
       "      <td>95</td>\n",
       "      <td>31.39</td>\n",
       "      <td>2.952090</td>\n",
       "      <td>0.340282</td>\n",
       "      <td>3.292372</td>\n",
       "    </tr>\n",
       "    <tr>\n",
       "      <th>7</th>\n",
       "      <td>88</td>\n",
       "      <td>24.19</td>\n",
       "      <td>2.287440</td>\n",
       "      <td>0.944943</td>\n",
       "      <td>3.232383</td>\n",
       "    </tr>\n",
       "    <tr>\n",
       "      <th>2</th>\n",
       "      <td>83</td>\n",
       "      <td>28.20</td>\n",
       "      <td>2.521887</td>\n",
       "      <td>0.519254</td>\n",
       "      <td>3.041140</td>\n",
       "    </tr>\n",
       "    <tr>\n",
       "      <th>5</th>\n",
       "      <td>86</td>\n",
       "      <td>23.17</td>\n",
       "      <td>2.296662</td>\n",
       "      <td>0.710314</td>\n",
       "      <td>3.006976</td>\n",
       "    </tr>\n",
       "    <tr>\n",
       "      <th>10</th>\n",
       "      <td>91</td>\n",
       "      <td>21.92</td>\n",
       "      <td>2.046891</td>\n",
       "      <td>0.674675</td>\n",
       "      <td>2.721566</td>\n",
       "    </tr>\n",
       "    <tr>\n",
       "      <th>9</th>\n",
       "      <td>90</td>\n",
       "      <td>17.45</td>\n",
       "      <td>1.645218</td>\n",
       "      <td>0.876631</td>\n",
       "      <td>2.521849</td>\n",
       "    </tr>\n",
       "    <tr>\n",
       "      <th>4</th>\n",
       "      <td>85</td>\n",
       "      <td>20.05</td>\n",
       "      <td>1.807134</td>\n",
       "      <td>0.566172</td>\n",
       "      <td>2.373305</td>\n",
       "    </tr>\n",
       "    <tr>\n",
       "      <th>1</th>\n",
       "      <td>82</td>\n",
       "      <td>18.88</td>\n",
       "      <td>1.784519</td>\n",
       "      <td>0.554679</td>\n",
       "      <td>2.339198</td>\n",
       "    </tr>\n",
       "    <tr>\n",
       "      <th>13</th>\n",
       "      <td>94</td>\n",
       "      <td>21.16</td>\n",
       "      <td>1.860401</td>\n",
       "      <td>0.430639</td>\n",
       "      <td>2.291040</td>\n",
       "    </tr>\n",
       "    <tr>\n",
       "      <th>6</th>\n",
       "      <td>87</td>\n",
       "      <td>18.70</td>\n",
       "      <td>1.662139</td>\n",
       "      <td>0.557094</td>\n",
       "      <td>2.219234</td>\n",
       "    </tr>\n",
       "    <tr>\n",
       "      <th>15</th>\n",
       "      <td>96</td>\n",
       "      <td>18.33</td>\n",
       "      <td>1.660437</td>\n",
       "      <td>0.404934</td>\n",
       "      <td>2.065371</td>\n",
       "    </tr>\n",
       "    <tr>\n",
       "      <th>19</th>\n",
       "      <td>100</td>\n",
       "      <td>20.90</td>\n",
       "      <td>1.697033</td>\n",
       "      <td>0.167476</td>\n",
       "      <td>1.864509</td>\n",
       "    </tr>\n",
       "    <tr>\n",
       "      <th>16</th>\n",
       "      <td>97</td>\n",
       "      <td>18.97</td>\n",
       "      <td>1.555525</td>\n",
       "      <td>0.265858</td>\n",
       "      <td>1.821383</td>\n",
       "    </tr>\n",
       "    <tr>\n",
       "      <th>11</th>\n",
       "      <td>92</td>\n",
       "      <td>19.16</td>\n",
       "      <td>1.462153</td>\n",
       "      <td>0.243451</td>\n",
       "      <td>1.705605</td>\n",
       "    </tr>\n",
       "    <tr>\n",
       "      <th>0</th>\n",
       "      <td>81</td>\n",
       "      <td>13.70</td>\n",
       "      <td>1.139806</td>\n",
       "      <td>0.307320</td>\n",
       "      <td>1.447126</td>\n",
       "    </tr>\n",
       "    <tr>\n",
       "      <th>8</th>\n",
       "      <td>89</td>\n",
       "      <td>12.85</td>\n",
       "      <td>0.931572</td>\n",
       "      <td>0.270373</td>\n",
       "      <td>1.201945</td>\n",
       "    </tr>\n",
       "  </tbody>\n",
       "</table>\n",
       "</div>"
      ],
      "text/plain": [
       "    Firm ID number  Stock price  Permanent Earnings per share  \\\n",
       "12              93        43.51                      4.753033   \n",
       "3               84        39.09                      4.065207   \n",
       "17              98        32.20                      3.337340   \n",
       "18              99        30.73                      3.031155   \n",
       "14              95        31.39                      2.952090   \n",
       "7               88        24.19                      2.287440   \n",
       "2               83        28.20                      2.521887   \n",
       "5               86        23.17                      2.296662   \n",
       "10              91        21.92                      2.046891   \n",
       "9               90        17.45                      1.645218   \n",
       "4               85        20.05                      1.807134   \n",
       "1               82        18.88                      1.784519   \n",
       "13              94        21.16                      1.860401   \n",
       "6               87        18.70                      1.662139   \n",
       "15              96        18.33                      1.660437   \n",
       "19             100        20.90                      1.697033   \n",
       "16              97        18.97                      1.555525   \n",
       "11              92        19.16                      1.462153   \n",
       "0               81        13.70                      1.139806   \n",
       "8               89        12.85                      0.931572   \n",
       "\n",
       "    Transitory Earnings per share  Earnings per share  \n",
       "12                       1.509251            6.262284  \n",
       "3                        1.470100            5.535307  \n",
       "17                       0.948137            4.285478  \n",
       "18                       0.833945            3.865100  \n",
       "14                       0.340282            3.292372  \n",
       "7                        0.944943            3.232383  \n",
       "2                        0.519254            3.041140  \n",
       "5                        0.710314            3.006976  \n",
       "10                       0.674675            2.721566  \n",
       "9                        0.876631            2.521849  \n",
       "4                        0.566172            2.373305  \n",
       "1                        0.554679            2.339198  \n",
       "13                       0.430639            2.291040  \n",
       "6                        0.557094            2.219234  \n",
       "15                       0.404934            2.065371  \n",
       "19                       0.167476            1.864509  \n",
       "16                       0.265858            1.821383  \n",
       "11                       0.243451            1.705605  \n",
       "0                        0.307320            1.447126  \n",
       "8                        0.270373            1.201945  "
      ]
     },
     "execution_count": 40,
     "metadata": {},
     "output_type": "execute_result"
    }
   ],
   "source": [
    "print (len((\"Firms with IDs 93 and 84 have stronger relationship b/w Earnings and Stock Price.\").split()))\n",
    "#trainingdata.sort_values(by=['Earnings per share', 'Stock price'],ascending=False)\n",
    "#testdata.sort_values(by=['Earnings per share', 'Stock price'],ascending=False)"
   ]
  },
  {
   "cell_type": "markdown",
   "metadata": {
    "id": "vbKkooPqoxNf"
   },
   "source": [
    "#### 6c) Why do these firms have stronger relationships between earnings and stock price."
   ]
  },
  {
   "cell_type": "code",
   "execution_count": null,
   "metadata": {
    "id": "1QLuSa6JoxNg"
   },
   "outputs": [],
   "source": [
    "print (len((\"Strong Relationships are due to high Permanent and Transitory Earnings per share.\").split()))\n",
    "#trainingdata.sort_values(by=['Permanent Earnings per share', 'Stock price'],ascending=False)\n",
    "#testdata.sort_values(by=['Transitory Earnings per share', 'Stock price'],ascending=False)"
   ]
  },
  {
   "cell_type": "markdown",
   "metadata": {
    "id": "eLl-laIToxNg"
   },
   "source": [
    "#### 6d) Which firms would you recommend to invest in, and why."
   ]
  },
  {
   "cell_type": "code",
   "execution_count": null,
   "metadata": {
    "id": "KUOOaV3loxNh"
   },
   "outputs": [],
   "source": [
    "print (len((\"Firms with both high Stock price and Earnings per share are safe to invest.\").split()))"
   ]
  }
 ],
 "metadata": {
  "colab": {
   "collapsed_sections": [],
   "name": "CIS8005_Fall21_Assignment3.ipynb",
   "provenance": []
  },
  "kernelspec": {
   "display_name": "Python 3",
   "language": "python",
   "name": "python3"
  },
  "language_info": {
   "codemirror_mode": {
    "name": "ipython",
    "version": 3
   },
   "file_extension": ".py",
   "mimetype": "text/x-python",
   "name": "python",
   "nbconvert_exporter": "python",
   "pygments_lexer": "ipython3",
   "version": "3.8.8"
  }
 },
 "nbformat": 4,
 "nbformat_minor": 1
}
